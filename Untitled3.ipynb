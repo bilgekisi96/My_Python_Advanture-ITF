{
  "nbformat": 4,
  "nbformat_minor": 0,
  "metadata": {
    "colab": {
      "name": "Untitled3.ipynb",
      "provenance": [],
      "collapsed_sections": [],
      "authorship_tag": "ABX9TyPX58aYTJYcdAGO6K8V4lWM",
      "include_colab_link": true
    },
    "kernelspec": {
      "name": "python3",
      "display_name": "Python 3"
    },
    "language_info": {
      "name": "python"
    }
  },
  "cells": [
    {
      "cell_type": "markdown",
      "metadata": {
        "id": "view-in-github",
        "colab_type": "text"
      },
      "source": [
        "<a href=\"https://colab.research.google.com/github/bilgekisi96/lab1.1/blob/main/Untitled3.ipynb\" target=\"_parent\"><img src=\"https://colab.research.google.com/assets/colab-badge.svg\" alt=\"Open In Colab\"/></a>"
      ]
    },
    {
      "cell_type": "code",
      "metadata": {
        "colab": {
          "base_uri": "https://localhost:8080/"
        },
        "id": "mSSF0_8XZjGs",
        "outputId": "9bfbc715-4d50-46e3-b62e-d6980b72d369"
      },
      "source": [
        "import seaborn as sns\n",
        "import numpy as np\n",
        "\n",
        "\n",
        "df=sns.load_dataset(\"diamonds\")\n",
        "diss=np.array(df[[\"x\",\"y\",\"z\"]])\n",
        "dipp=np.array(diss[:,0]*diss[:,1]*diss[:,2]).reshape(len(diss[:,0]),1)\n",
        "deg=np.concatenate((diss,dipp),axis=1)[0:5]\n",
        "print(np.mean(deg[:,0]),)\n",
        "\n",
        "Array1 =np.array([ 0,10,20,40,60,80])\n",
        "Array2 =np.array([10,30,40,50,70,90])\n",
        "print(np.setdiff1d(Array1,Array2))\n",
        "\n"
      ],
      "execution_count": 1,
      "outputs": [
        {
          "output_type": "stream",
          "name": "stdout",
          "text": [
            "4.086\n",
            "[ 0 20 60 80]\n"
          ]
        }
      ]
    },
    {
      "cell_type": "code",
      "metadata": {
        "colab": {
          "base_uri": "https://localhost:8080/"
        },
        "id": "l9qKBA1QasJ5",
        "outputId": "8d54a5bc-42c9-4751-fcb0-39ff30ac1550"
      },
      "source": [
        "import numpy as np\n",
        "\n",
        "npdat=np.arange(2010,2021,dtype=int)\n",
        "print(npdat)\n",
        "\n"
      ],
      "execution_count": 7,
      "outputs": [
        {
          "output_type": "stream",
          "name": "stdout",
          "text": [
            "[2010 2011 2012 2013 2014 2015 2016 2017 2018 2019 2020]\n"
          ]
        }
      ]
    },
    {
      "cell_type": "code",
      "metadata": {
        "colab": {
          "base_uri": "https://localhost:8080/"
        },
        "id": "Fts3G-cXFGcy",
        "outputId": "18a4a050-b4e8-455c-fd48-6e7c94ae6085"
      },
      "source": [
        "import numpy as np\n",
        "import pandas as pd\n",
        "import matplotlib.pyplot as plt\n",
        "import seaborn as sns\n",
        "\n",
        "a=np.array([1,2,3,4,5,6,7,8,9,10])\n",
        "\n",
        "print(a[a>5])\n",
        "veri=np.random.randint(10,50,50)\n",
        "print(veri.mean())\n",
        "print(veri)\n",
        "veritas=veri[(veri>10) & (veri<40)]\n",
        "print(veritas)\n",
        "veri.sort()\n",
        "print(veri[::-1])"
      ],
      "execution_count": 2,
      "outputs": [
        {
          "output_type": "stream",
          "name": "stdout",
          "text": [
            "[ 6  7  8  9 10]\n",
            "30.62\n",
            "[34 46 39 40 23 42 49 26 36 14 31 47 34 40 22 27 38 48 35 12 15 19 30 41\n",
            " 13 11 12 38 18 39 27 39 14 33 41 28 48 24 40 28 19 46 40 17 35 20 34 10\n",
            " 40 29]\n",
            "[34 39 23 26 36 14 31 34 22 27 38 35 12 15 19 30 13 11 12 38 18 39 27 39\n",
            " 14 33 28 24 28 19 17 35 20 34 29]\n",
            "[49 48 48 47 46 46 42 41 41 40 40 40 40 40 39 39 39 38 38 36 35 35 34 34\n",
            " 34 33 31 30 29 28 28 27 27 26 24 23 22 20 19 19 18 17 15 14 14 13 12 12\n",
            " 11 10]\n"
          ]
        }
      ]
    },
    {
      "cell_type": "code",
      "metadata": {
        "colab": {
          "base_uri": "https://localhost:8080/"
        },
        "id": "OSs3RU9nNWQU",
        "outputId": "876b50f0-e0a2-495f-9e75-06bbaa2b0561"
      },
      "source": [
        "import numpy as np\n",
        "\n",
        "arr1=np.array([[1,2,3],[4,5,6],[7,8,9]])\n",
        "print(arr1.sum(axis=1),arr1.sum(axis=0))\n",
        "\n",
        "\n",
        "\n",
        "\n"
      ],
      "execution_count": 4,
      "outputs": [
        {
          "output_type": "stream",
          "name": "stdout",
          "text": [
            "[ 6 15 24] [12 15 18]\n"
          ]
        }
      ]
    },
    {
      "cell_type": "code",
      "metadata": {
        "id": "LRrbBRYrSk8X"
      },
      "source": [
        ""
      ],
      "execution_count": null,
      "outputs": []
    }
  ]
}